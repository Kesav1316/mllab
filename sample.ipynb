{
 "cells": [
  {
   "cell_type": "code",
   "execution_count": null,
   "id": "f543087f",
   "metadata": {},
   "outputs": [],
   "source": [
    "import pandas as pd\n",
    "from sklearn.model_selection import train_test_split\n",
    "from sklearn.ensemble import RandomForestClassifier  # or use LogisticRegression, SVM, etc.\n",
    "from sklearn.metrics import accuracy_score\n",
    "\n",
    "# 1. Load the data\n",
    "train_df = pd.read_csv(\"train.csv\")\n",
    "test_df = pd.read_csv(\"test.csv\")\n",
    "\n",
    "# 2. Separate features and target\n",
    "X = train_df.drop(columns=['Target'])  # change 'Target' to actual column name\n",
    "y = train_df['Target']\n",
    "\n",
    "# 3. Optional: Split for validation\n",
    "X_train, X_valid, y_train, y_valid = train_test_split(X, y, test_size=0.2, random_state=42)\n",
    "\n",
    "# 4. Train a model\n",
    "model = RandomForestClassifier()\n",
    "model.fit(X_train, y_train)\n",
    "\n",
    "# 5. Evaluate on validation set\n",
    "y_pred = model.predict(X_valid)\n",
    "print(\"Validation Accuracy:\", accuracy_score(y_valid, y_pred))\n",
    "\n",
    "# 6. Predict on test.csv\n",
    "test_ids = test_df['Id']  # Keep IDs for submission\n",
    "X_test = test_df.drop(columns=['Id'])\n",
    "test_preds = model.predict(X_test)\n",
    "\n",
    "# 7. Create submission file\n",
    "submission = pd.DataFrame({\n",
    "    'Id': test_ids,\n",
    "    'Prediction': test_preds\n",
    "})\n",
    "submission.to_csv(\"submission.csv\", index=False)\n",
    "print(\"Submission file saved.\")\n"
   ]
  }
 ],
 "metadata": {
  "kernelspec": {
   "display_name": "Python 3",
   "language": "python",
   "name": "python3"
  },
  "language_info": {
   "codemirror_mode": {
    "name": "ipython",
    "version": 3
   },
   "file_extension": ".py",
   "mimetype": "text/x-python",
   "name": "python",
   "nbconvert_exporter": "python",
   "pygments_lexer": "ipython3",
   "version": "3.13.2"
  }
 },
 "nbformat": 4,
 "nbformat_minor": 5
}
